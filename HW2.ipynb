{
 "cells": [
  {
   "cell_type": "markdown",
   "metadata": {},
   "source": [
    "# Problem 1"
   ]
  },
  {
   "cell_type": "markdown",
   "metadata": {},
   "source": [
    "### Case 1"
   ]
  },
  {
   "cell_type": "markdown",
   "metadata": {},
   "source": [
    "The initial state is given by $| J^{\\prime} = 3/2, M_J^{\\prime} = 3/2 \\rangle$. The amplitude $A$ of emission with a given polarization $\\epsilon$ into final state $|J = 1/2, M_J \\rangle$ is \n",
    "\n",
    "$$A \\propto \\langle J = 1/2, M_J |\\  \\epsilon . r \\ | J^{\\prime} = 3/2, M_J^{\\prime} = 3/2 \\rangle$$\n",
    "\n",
    "According to the Wigner-Eckart theorem, emission into the spherical component $q$ of $\\epsilon$ (which picks out the -$q$ component of r) is proportional to the the Clebsch-Gordan (CG) coefficient $\\langle 3/2, 3/2, 1, -q \\ | \\ 1/2, M \\rangle$ where $M$ is the ground state Zeeman sublevel.\n",
    "\n",
    "In this case, only the $q = + 1$ component of $\\epsilon$ (which picks out the $q = - 1$ component of r) contributes to emission (i.e. to A). In the $q = 0, - 1$ cases, the CG coefficient is zero because $m \\neq m_1 + m_2$ for all possible ground state $m$s.\n",
    "\n",
    "Thus, there is only $\\sigma_+$ emission and the amplitude A is proportional to the CG coefficient $A \\propto \\langle 3/2, 3/2, 1, -1 \\ | \\ 1/2, 1/2 \\rangle = 1/\\sqrt{2}$ (calculated below)."
   ]
  },
  {
   "cell_type": "code",
   "execution_count": 15,
   "metadata": {},
   "outputs": [
    {
     "name": "stdout",
     "output_type": "stream",
     "text": [
      "sqrt(2)/2\n"
     ]
    }
   ],
   "source": [
    "from sympy.physics.quantum.cg import CG\n",
    "from sympy import S\n",
    "\n",
    "# The parameters are - j1, m1, j2, m2, j3, m3\n",
    "\n",
    "cg = CG(S(3)/2, S(3)/2, S(1), S(-1), S(1)/2, S(1)/2)\n",
    "print(cg.doit())"
   ]
  },
  {
   "cell_type": "markdown",
   "metadata": {},
   "source": [
    "The polarization vector for $q = +1$ is $\\epsilon = \\frac{-1}{\\sqrt{2}}(\\hat{x} + i \\hat{y})$. \n",
    "\n",
    "Thus, \n",
    "$$I_y^{(\\sigma)} \\propto |\\hat{y}. \\hat{\\epsilon}|^2 = \\frac{1}{2}, I_{\\theta}^{(\\sigma)} \\propto |\\hat{\\theta}. \\hat{\\epsilon}|^2 = \\frac{\\cos^2(\\theta)}{2}$$\n",
    "\n",
    "where $\\hat{y}$ and $\\hat{\\theta}$ correspond to the two possible orthogonal polarization directions for light propagating along $(\\sin \\theta, 0, \\cos \\theta)$.\n",
    "\n",
    "Thus, the angular dependence of intensity is $$I_{tot}^{\\sigma} (\\theta) \\propto \\frac{1 + \\cos^2(\\theta)}{2}$$\n",
    "\n",
    "Stokes' parameters - \n",
    "\n",
    "$$I_x = 1/2, I_y = \\frac{\\cos^2(\\theta)}{2}$$\n",
    "\n",
    "$$ P_0 = I_x + I_y = \\frac{1 + \\cos^2(\\theta)}{2} $$\n",
    "$$ P_1 = I_x - I_y = \\frac{1 - \\cos^2(\\theta)}{2} $$ \n",
    "$$ P_2 = I_{+ \\pi/4} - I_{- \\pi/4} = \\frac{1 + \\cos^2(\\theta)}{2} - \\frac{1 + \\cos^2(\\theta)}{2} = 0$$\n",
    "$$ P_3 = I_+ - I_- = \\cos \\theta$$ \n",
    "\n",
    "$P_3$ is calculated in the same manner as in the text. \n",
    "\n",
    "For $\\theta = 0$, light is left circularly polarized, and for $\\theta = \\pi$, light is right circularly polarized. The degree of polarization is $|\\cos \\theta|$. "
   ]
  },
  {
   "cell_type": "markdown",
   "metadata": {},
   "source": [
    "### Case 2"
   ]
  },
  {
   "cell_type": "markdown",
   "metadata": {},
   "source": [
    "The initial state is given by $| J^{\\prime} = 3/2, M_J^{\\prime} = 1/2 \\rangle$. The amplitude $A$ of emission with a given polarization $\\epsilon$ into final state $|J = 1/2, M_J \\rangle$ is \n",
    "\n",
    "$$A \\propto \\langle J = 1/2, M_J |\\  \\epsilon . r \\ | J^{\\prime} = 3/2, M_J^{\\prime} = 1/2 \\rangle$$\n",
    "\n",
    "According to the Wigner-Eckart theorem, emission into the spherical component $q$ of $\\epsilon$ (which picks out the -$q$ component of r) is proportional to the the Clebsch-Gordan (CG) coefficient $\\langle 3/2, 1/2, 1, -q \\ | \\ 1/2, M \\rangle$ where $M$ is the ground state Zeeman sublevel.\n",
    "\n",
    "In this case, the $q = 0, + 1$ component of $\\epsilon$ contributes to emission (i.e. to A). In the $q = - 1$ case, the CG coefficient is zero because $m \\neq m_1 + m_2$ for all possible ground state $m$s.\n",
    "\n",
    "For $\\sigma_+$ emission the amplitude A is proportional to the CG coefficient $A \\propto \\langle 3/2, 1/2, 1, -1 \\ | \\ 1/2, -1/2 \\rangle = 1/\\sqrt{6}$ (calculated below).\n",
    "\n",
    "For $\\pi$ emission the amplitude A is proportional to the CG coefficient $A \\propto \\langle 3/2, 1/2, 1, 0 \\ | \\ 1/2, 1/2 \\rangle = -1/\\sqrt{3}$ (calculated below)."
   ]
  },
  {
   "cell_type": "code",
   "execution_count": 18,
   "metadata": {},
   "outputs": [
    {
     "name": "stdout",
     "output_type": "stream",
     "text": [
      "sqrt(6)/6\n",
      "-sqrt(3)/3\n"
     ]
    }
   ],
   "source": [
    "from sympy.physics.quantum.cg import CG\n",
    "from sympy import S\n",
    "\n",
    "# The parameters are - j1, m1, j2, m2, j3, m3\n",
    "\n",
    "cgsigma = CG(S(3)/2, S(1)/2, S(1), S(-1), S(1)/2, -S(1)/2)\n",
    "print(cgsigma.doit())\n",
    "\n",
    "cgpi = CG(S(3)/2, S(1)/2, S(1), S(0), S(1)/2, S(1)/2)\n",
    "print(cgpi.doit())"
   ]
  },
  {
   "cell_type": "markdown",
   "metadata": {},
   "source": [
    "The polarization vector for $q = 0$ is $\\hat{z}$. \n",
    "\n",
    "For $\\pi$ emission, \n",
    "$$I_y^{(\\pi)} \\propto |\\hat{y}. \\hat{z}|^2 = 0, I_{\\theta}^{(\\pi)} \\propto |\\hat{\\theta}. \\hat{z}|^2 = \\sin^2(\\theta)$$\n",
    "\n",
    "The angular dependence of $\\sigma$ emission is same as before. \n",
    "\n",
    "Thus the total emission has the angular dependence - \n",
    "\n",
    "$$I_{tot}(\\theta) = \\frac{1}{6} I_{tot}^{\\sigma}(\\theta) + \\frac{1}{3} I_{tot}^{\\pi}(\\theta) = \\frac{1}{6} \\frac{1 + \\cos^2(\\theta)}{2} + \\frac{1}{3} \\sin^2(\\theta) = \\frac{1 + \\cos^2 \\theta + 4 \\sin^2 \\theta}{12}$$\n",
    "\n",
    "Stokes' parameters - \n",
    "\n",
    "$$I_x = \\frac{1}{12}, I_y = \\frac{1}{6} \\frac{\\cos^2(\\theta)}{2} + \\frac{1}{3} \\sin^2(\\theta)$$\n",
    "\n",
    "$$ P_0 = I_x + I_y = \\frac{1}{12} + \\frac{1}{6} \\frac{\\cos^2(\\theta)}{2} + \\frac{1}{3} \\sin^2(\\theta) $$\n",
    "$$ P_1 = I_x - I_y = \\frac{1}{12} - \\frac{1}{6} \\frac{\\cos^2(\\theta)}{2} - \\frac{1}{3} \\sin^2(\\theta) $$ \n",
    "$$ P_2 = I_{+ \\pi/4} - I_{- \\pi/4} = \\frac{1 + \\cos^2(\\theta)}{2} - \\frac{1 + \\cos^2(\\theta)}{2} + \\frac{\\sin^2 \\theta}{2} - \\frac{\\sin^2 \\theta}{2} = 0$$\n",
    "$$ P_3 = I_+ - I_- = \\cos \\theta$$ \n",
    "\n",
    "$P_3$ is calculated in the same manner as in the text. \n",
    "\n",
    "\n",
    "For $\\theta = 0 (\\pi) $ only the left (right) circularly polarized $\\sigma$ light is seen. For general $\\theta$, a polarizer oriented along $\\hat{y}$ will transmit an intensity $\\propto 1/12$ from the $\\sigma$ light and a polarizer oriented along $\\hat{\\theta}$ will transmit an intensity $\\propto \\frac{\\cos^2 \\theta}{12}$ from the $\\sigma$ light and $\\propto \\frac{\\sin^2 \\theta}{3}$ from the $\\pi$ light."
   ]
  },
  {
   "cell_type": "markdown",
   "metadata": {},
   "source": [
    "# Problem 2"
   ]
  },
  {
   "cell_type": "markdown",
   "metadata": {},
   "source": [
    "### Case 1"
   ]
  },
  {
   "cell_type": "markdown",
   "metadata": {},
   "source": [
    "Choosing the quantisation axis along $\\hat x$, the excited state is \n",
    "$$| J = 1, M = 0 \\rangle = \\left( \\begin{array}{c} 0 \\\\ 1 \\\\ 0 \\end{array} \\right)$$\n",
    "as the laser is polarised along $\\hat z$\n",
    "\n",
    "As the magnetic field is in the z-direction, we change the quantization axis by applying the $J = 1$ rotation operator, \n",
    "$$| \\psi(t = 0) \\rangle =  D^{\\dagger}(0, -\\pi/2, 0)| J = 1, M = 0 \\rangle = \\left( \\begin{array}{ccc} \\frac{1}{2} & \\frac{-1}{\\sqrt{2}} & \\frac{1}{2} \\\\ \\frac{1}{\\sqrt{2}} &  0 & \\frac{-1}{\\sqrt{2}} \\\\ \\frac{1}{2} &  \\frac{1}{\\sqrt{2}} &\\frac{1}{2} \\end{array} \\right) \\left( \\begin{array}{c} 0 \\\\ 1 \\\\ 0 \\end{array} \\right) = \\left( \\begin{array}{c} \\frac{-1}{\\sqrt{2}} \\\\ 0 \\\\ \\frac{1}{\\sqrt{2}} \\end{array} \\right)$$\n",
    "\n",
    "Note that the rotation is Hermitian conjugated as it is not the state that is rotated but the frame.\n",
    "\n",
    "The temporal evolution is given by, \n",
    "$$|\\psi(t) \\rangle = e^{-\\gamma t/2} \\left( \\begin{array}{c} \\frac{-1}{\\sqrt{2}} e^{-i \\Omega_L t} \\\\ 0 \\\\ \\frac{1}{\\sqrt{2}} e^{+i \\Omega_L t} \\end{array} \\right)$$\n",
    "where $\\Omega_L = g \\mu_0 B_0$ is the Larmor frequency.\n",
    "\n",
    "As the detector is in the y-direction, we change the quantization axis by applying the $J = 1$ rotation operator, \n",
    "\n",
    "$$| \\psi^{\\prime}(t) \\rangle =  D^{\\dagger}(\\pi/2, \\pi/2, 0)| \\psi (t) \\rangle = e^{-\\gamma t/2} \\left( \\begin{array}{ccc} \\frac{1}{2} & \\frac{1}{\\sqrt{2}} & \\frac{1}{2} \\\\ \\frac{-1}{\\sqrt{2}} &  0 & \\frac{1}{\\sqrt{2}} \\\\ \\frac{1}{2} &  \\frac{-1}{\\sqrt{2}} &\\frac{1}{2} \\end{array} \\right) \\left( \\begin{array}{c} \\frac{-i}{\\sqrt{2}} e^{-i \\Omega_L t} \\\\ 0 \\\\ \\frac{-i}{\\sqrt{2}} e^{+i \\Omega_L t} \\end{array} \\right) = \\frac{-i}{\\sqrt{2}} e^{-\\gamma t/2} \\left[ e^{-i \\Omega_L t} \\left( \\begin{array}{c} \\frac{1}{2} \\\\ \\frac{-1}{\\sqrt{2}} \\\\ \\frac{1}{2} \\end{array} \\right) + e^{i \\Omega_L t} \\left( \\begin{array}{c} \\frac{1}{2} \\\\ \\frac{1}{\\sqrt{2}} \\\\ \\frac{1}{2} \\end{array} \\right) \\right]$$\n",
    "\n",
    "Thus, \n",
    "\n",
    "$$| \\psi^{\\prime}(t) \\rangle = \\frac{-i}{\\sqrt{2}} e^{-\\gamma t/2} \\left( \\begin{array}{c} \\cos(\\Omega_L t) \\\\ \\sqrt{2} i \\sin (\\Omega_L t) \\\\ \\cos(\\Omega_L t) \\end{array} \\right)$$ \n",
    "\n",
    "The detector signal (proportional to occupation of $m=1$ sublevel) is given by,\n",
    "\n",
    "$$S(t) \\propto \\frac{\\gamma}{2} e^{-\\gamma t} \\cos^2 (\\Omega_L t) $$"
   ]
  },
  {
   "cell_type": "markdown",
   "metadata": {},
   "source": [
    "### Case 2"
   ]
  },
  {
   "cell_type": "markdown",
   "metadata": {},
   "source": [
    "Choosing the quantisation axis along $\\hat x$, the excited state is \n",
    "$$| J = 1, M = 0 \\rangle = \\left( \\begin{array}{c} 0 \\\\ 1 \\\\ 0 \\end{array} \\right)$$\n",
    "as the laser is polarised along $\\hat z$.\n",
    "\n",
    "As the magnetic field is in the x-direction, we don't change the quantization axis, \n",
    "\n",
    "$$| \\psi(t = 0) \\rangle = | J = 1, M = 0 \\rangle = \\left( \\begin{array}{c} 0 \\\\ 1 \\\\ 0 \\end{array} \\right)$$\n",
    "\n",
    "The temporal evolution is given by, \n",
    "$$|\\psi(t) \\rangle = e^{-\\gamma t/2} \\left( \\begin{array}{c} 0 \\\\ 1 \\\\ 0 \\end{array} \\right)$$\n",
    "\n",
    "Note that Larmor precession doesn't occur because the angular momentum is aligned along the magnetic field. \n",
    "\n",
    "As the detector is in the y-direction, we change the quantization axis by applying the $J = 1$ rotation operator, \n",
    "\n",
    "$$| \\psi^{\\prime}(t) \\rangle =  D^{\\dagger}(\\pi/2, \\pi/2, 0)| \\psi (t) \\rangle = e^{-\\gamma t/2} \\left( \\begin{array}{ccc} \\frac{1}{2} & \\frac{1}{\\sqrt{2}} & \\frac{1}{2} \\\\ \\frac{-1}{\\sqrt{2}} &  0 & \\frac{1}{\\sqrt{2}} \\\\ \\frac{1}{2} &  \\frac{-1}{\\sqrt{2}} &\\frac{1}{2} \\end{array} \\right) \\left( \\begin{array}{c} 0 \\\\ 1 \\\\ 0 \\end{array} \\right) =  e^{-\\gamma t/2} \\left( \\begin{array}{c} \\frac{1}{\\sqrt{2}} \\\\ 0 \\\\ \\frac{-1}{\\sqrt{2}} \\end{array} \\right) $$\n",
    "\n",
    "\n",
    "The detector signal (proportional to occupation of $m=1$ sublevel) is given by,\n",
    "\n",
    "$$S(t) \\propto \\frac{\\gamma}{2} e^{-\\gamma t} $$"
   ]
  },
  {
   "cell_type": "markdown",
   "metadata": {},
   "source": [
    "### Case 3"
   ]
  },
  {
   "cell_type": "markdown",
   "metadata": {},
   "source": [
    "Choosing the quantisation axis along $\\hat x$, the excited state is \n",
    "$$| J = 1, M = 1 \\rangle = \\left( \\begin{array}{c} 1 \\\\ 0 \\\\ 0 \\end{array} \\right)$$\n",
    "as the laser is left circularly polarised.\n",
    "\n",
    "As the magnetic field is in the x-direction, we don't change the quantization axis, \n",
    "\n",
    "$$| \\psi(t = 0) \\rangle = | J = 1, M = 1 \\rangle = \\left( \\begin{array}{c} 1 \\\\ 0 \\\\ 0 \\end{array} \\right)$$\n",
    "\n",
    "The temporal evolution is given by, \n",
    "$$|\\psi(t) \\rangle = e^{-\\gamma t/2} \\left( \\begin{array}{c} e^{- i \\Omega_L t} \\\\ 0 \\\\ 0 \\end{array} \\right)$$\n",
    "where $\\Omega_L = g \\mu_0 B_0$ is the Larmor frequency.\n",
    "\n",
    "As the detector is in the y-direction, we change the quantization axis by applying the $J = 1$ rotation operator, \n",
    "\n",
    "$$| \\psi^{\\prime}(t) \\rangle =  D^{\\dagger}(\\pi/2, \\pi/2, 0)| \\psi (t) \\rangle = e^{-\\gamma t/2} \\left( \\begin{array}{ccc} \\frac{1}{2} & \\frac{1}{\\sqrt{2}} & \\frac{1}{2} \\\\ \\frac{-1}{\\sqrt{2}} &  0 & \\frac{1}{\\sqrt{2}} \\\\ \\frac{1}{2} &  \\frac{-1}{\\sqrt{2}} &\\frac{1}{2} \\end{array} \\right) \\left( \\begin{array}{c} i e^{- i \\Omega_L t} \\\\ 0 \\\\ 0 \\end{array} \\right) =  e^{-\\gamma t/2} i e^{- i \\Omega_L t} \\left( \\begin{array}{c} \\frac{1}{2} \\\\ \\frac{-1}{\\sqrt{2}} \\\\  \\frac{1}{2} \\end{array} \\right) $$\n",
    "\n",
    "\n",
    "The detector signal (proportional to occupation of $m=1$ sublevel) is given by,\n",
    "\n",
    "$$S(t) \\propto \\frac{\\gamma}{4} e^{-\\gamma t} $$\n",
    "\n"
   ]
  },
  {
   "cell_type": "markdown",
   "metadata": {},
   "source": [
    "# Problem 3"
   ]
  },
  {
   "cell_type": "markdown",
   "metadata": {},
   "source": [
    "$\\newcommand{\\cohstate}{| 2 i \\epsilon / \\gamma \\rangle \\langle 2 i \\epsilon / \\gamma |}$\n",
    "$\\newcommand{\\cohket}{| 2 i \\epsilon / \\gamma \\rangle}$\n",
    "$\\newcommand{\\cohalpha}{2 i \\epsilon / \\gamma}$\n",
    "\n",
    "The master equation for a driven, damped oscillator is - \n",
    "\n",
    "$$\n",
    "\t\\frac{d \\rho}{d t} = i \\epsilon [ a + a^{\\dagger}, \\rho ] + \\frac{\\gamma}{2} (2 a \\rho a^{\\dagger} - a^{\\dagger} a \\rho - \\rho a^{\\dagger}a)\n",
    "$$\n",
    "Let,\n",
    "$$\n",
    "\t\\rho = \\cohstate\n",
    "$$\n",
    "Then, \n",
    "$$\n",
    "\t\\frac{d \\rho}{d t} = i \\epsilon [ a + a^{\\dagger}, \\cohstate ] + \\frac{\\gamma}{2} (2 a \\cohstate a^{\\dagger} - a^{\\dagger} a \\cohstate - \\cohstate a^{\\dagger}a)\n",
    "$$\n",
    "\n",
    "We know, for a coherent state, $a \\cohket = \\cohalpha \\cohket$. \n",
    "\\\\ \\\\\n",
    "Then, \n",
    "\\begin{equation}\n",
    "\t\\begin{split}\n",
    "\t\t\\frac{d \\rho}{d t} = & i \\epsilon [ (\\cohalpha) \\rho + a^{\\dagger} \\rho - (-\\cohalpha) \\rho -\\rho a] + \\frac{\\gamma}{2} (2 (\\cohalpha) (-\\cohalpha) \\rho - (\\cohalpha) a^{\\dagger} \\rho - (-\\cohalpha) \\rho a) \\\\\n",
    "\t\t& = 2 i \\epsilon (\\cohalpha) \\rho - (4 (i \\epsilon)^2/ \\gamma) \\rho = 0\n",
    "\t\\end{split}\n",
    "\\end{equation}\n",
    "\n",
    "Thus, $\\frac{d \\rho}{d t} = 0$ and the state $\\cohket$ is a steady state of the system. "
   ]
  },
  {
   "cell_type": "code",
   "execution_count": null,
   "metadata": {},
   "outputs": [],
   "source": []
  }
 ],
 "metadata": {
  "kernelspec": {
   "display_name": "Python 3",
   "language": "python",
   "name": "python3"
  },
  "language_info": {
   "codemirror_mode": {
    "name": "ipython",
    "version": 3
   },
   "file_extension": ".py",
   "mimetype": "text/x-python",
   "name": "python",
   "nbconvert_exporter": "python",
   "pygments_lexer": "ipython3",
   "version": "3.5.2"
  }
 },
 "nbformat": 4,
 "nbformat_minor": 2
}
